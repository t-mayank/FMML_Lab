{
  "nbformat": 4,
  "nbformat_minor": 0,
  "metadata": {
    "colab": {
      "provenance": [],
      "authorship_tag": "ABX9TyNxIIOXTBuAPxMnZLLvASb0",
      "include_colab_link": true
    },
    "kernelspec": {
      "name": "python3",
      "display_name": "Python 3"
    },
    "language_info": {
      "name": "python"
    }
  },
  "cells": [
    {
      "cell_type": "markdown",
      "metadata": {
        "id": "view-in-github",
        "colab_type": "text"
      },
      "source": [
        "<a href=\"https://colab.research.google.com/github/t-mayank/FMML_Lab/blob/main/FMML_M1L2.ipynb\" target=\"_parent\"><img src=\"https://colab.research.google.com/assets/colab-badge.svg\" alt=\"Open In Colab\"/></a>"
      ]
    },
    {
      "cell_type": "markdown",
      "source": [
        "> Exercise: Try to implement a 3 nearest neighbour classifier and compare the accuracy of the 1 nearest neighbour classifier and the 3 nearest neighbour classifier on the test dataset. You can use the KNeighborsClassifier class from the scikit-learn library to implement the K-Nearest Neighbors model. You can set the number of neighbors using the n_neighbors parameter. You can also use the accuracy_score function from the scikit-learn library to calculate the accuracy of the model."
      ],
      "metadata": {
        "id": "jlDfSwhHsXwt"
      }
    },
    {
      "cell_type": "code",
      "execution_count": 28,
      "metadata": {
        "id": "yNobF8oxsSZY"
      },
      "outputs": [],
      "source": [
        "from sklearn import datasets\n",
        "from sklearn.model_selection import train_test_split\n",
        "from sklearn.neighbors import KNeighborsRegressor\n",
        "from sklearn.metrics import accuracy_score\n",
        "import numpy as np"
      ]
    },
    {
      "cell_type": "code",
      "source": [
        "dataset = datasets.fetch_california_housing()\n",
        "# Dataset description\n",
        "print(dataset.DESCR)"
      ],
      "metadata": {
        "colab": {
          "base_uri": "https://localhost:8080/"
        },
        "id": "9Pi-Eh20u2iN",
        "outputId": "8da1ef01-60f1-4352-8477-80e578553e2d"
      },
      "execution_count": 29,
      "outputs": [
        {
          "output_type": "stream",
          "name": "stdout",
          "text": [
            ".. _california_housing_dataset:\n",
            "\n",
            "California Housing dataset\n",
            "--------------------------\n",
            "\n",
            "**Data Set Characteristics:**\n",
            "\n",
            "    :Number of Instances: 20640\n",
            "\n",
            "    :Number of Attributes: 8 numeric, predictive attributes and the target\n",
            "\n",
            "    :Attribute Information:\n",
            "        - MedInc        median income in block group\n",
            "        - HouseAge      median house age in block group\n",
            "        - AveRooms      average number of rooms per household\n",
            "        - AveBedrms     average number of bedrooms per household\n",
            "        - Population    block group population\n",
            "        - AveOccup      average number of household members\n",
            "        - Latitude      block group latitude\n",
            "        - Longitude     block group longitude\n",
            "\n",
            "    :Missing Attribute Values: None\n",
            "\n",
            "This dataset was obtained from the StatLib repository.\n",
            "https://www.dcc.fc.up.pt/~ltorgo/Regression/cal_housing.html\n",
            "\n",
            "The target variable is the median house value for California districts,\n",
            "expressed in hundreds of thousands of dollars ($100,000).\n",
            "\n",
            "This dataset was derived from the 1990 U.S. census, using one row per census\n",
            "block group. A block group is the smallest geographical unit for which the U.S.\n",
            "Census Bureau publishes sample data (a block group typically has a population\n",
            "of 600 to 3,000 people).\n",
            "\n",
            "A household is a group of people residing within a home. Since the average\n",
            "number of rooms and bedrooms in this dataset are provided per household, these\n",
            "columns may take surprisingly large values for block groups with few households\n",
            "and many empty houses, such as vacation resorts.\n",
            "\n",
            "It can be downloaded/loaded using the\n",
            ":func:`sklearn.datasets.fetch_california_housing` function.\n",
            "\n",
            ".. topic:: References\n",
            "\n",
            "    - Pace, R. Kelley and Ronald Barry, Sparse Spatial Autoregressions,\n",
            "      Statistics and Probability Letters, 33 (1997) 291-297\n",
            "\n"
          ]
        }
      ]
    },
    {
      "cell_type": "code",
      "source": [
        "print(\"Orignal target values:\", dataset.target)\n",
        "\n",
        "dataset.target = dataset.target.astype(int)\n",
        "\n",
        "print(\"Target values after conversion:\", dataset.target)\n",
        "print(\"Input variables shape:\", dataset.data.shape)\n",
        "print(\"Output variables shape:\", dataset.target.shape)"
      ],
      "metadata": {
        "colab": {
          "base_uri": "https://localhost:8080/"
        },
        "id": "O3BIS5Zguxrj",
        "outputId": "7e84d595-e04e-4ed8-da85-90dbd80fd812"
      },
      "execution_count": 30,
      "outputs": [
        {
          "output_type": "stream",
          "name": "stdout",
          "text": [
            "Orignal target values: [4.526 3.585 3.521 ... 0.923 0.847 0.894]\n",
            "Target values after conversion: [4 3 3 ... 0 0 0]\n",
            "Input variables shape: (20640, 8)\n",
            "Output variables shape: (20640,)\n"
          ]
        }
      ]
    },
    {
      "cell_type": "code",
      "source": [
        "california = datasets.fetch_california_housing()\n",
        "X_train, X_test, y_train, y_test = train_test_split(california.data, california.target, test_size=0.2)\n",
        "\n",
        "y_train_discretized = np.digitize(y_train, np.linspace(y_train.min(), y_train.max(), 5))\n",
        "y_test_discretized = np.digitize(y_test, np.linspace(y_test.min(), y_test.max(), 5))\n",
        "\n",
        "knn_1 = KNeighborsRegressor(n_neighbors=1)\n",
        "knn_3 = KNeighborsRegressor(n_neighbors=3)\n",
        "\n",
        "knn_1.fit(X_train, y_train_discretized)\n",
        "knn_3.fit(X_train, y_train_discretized)\n",
        "\n",
        "y_pred_1 = knn_1.predict(X_test)\n",
        "y_pred_3 = knn_3.predict(X_test)\n",
        "\n",
        "y_pred_1_discretized = np.digitize(y_pred_1, np.linspace(y_test.min(), y_test.max(), 5))\n",
        "y_pred_3_discretized = np.digitize(y_pred_3, np.linspace(y_test.min(), y_test.max(), 5))\n",
        "\n",
        "print(\"Accuracy of 1-NN:\", accuracy_score(y_test_discretized, y_pred_1_discretized)*100, '%')\n",
        "print(\"Accuracy of 3-NN:\", accuracy_score(y_test_discretized, y_pred_3_discretized)*100, '%')\n"
      ],
      "metadata": {
        "colab": {
          "base_uri": "https://localhost:8080/"
        },
        "id": "2cUjpaOyw71j",
        "outputId": "0653f340-3430-4359-9f41-63a965bfecad"
      },
      "execution_count": 31,
      "outputs": [
        {
          "output_type": "stream",
          "name": "stdout",
          "text": [
            "Accuracy of 1-NN: 41.30329457364341 %\n",
            "Accuracy of 3-NN: 41.787790697674424 %\n"
          ]
        }
      ]
    },
    {
      "cell_type": "markdown",
      "source": [
        "Reason for discretizing the values:\n",
        "\n",
        "ValueError: Unknown label type: continuous. Maybe you are trying to fit a classifier, which expects discrete classes on a regression target with continuous values."
      ],
      "metadata": {
        "id": "-hS4s2Z1yUtq"
      }
    },
    {
      "cell_type": "markdown",
      "source": [
        ">Exercise: How does the accuracy of the 3 nearest neighbour classifier change with the number of splits? How is it affected by the split size? Compare the results with the 1 nearest neighbour classifier."
      ],
      "metadata": {
        "id": "JQZlLDiwj9J2"
      }
    },
    {
      "cell_type": "code",
      "source": [
        "california = datasets.fetch_california_housing()\n",
        "X_train, X_test, y_train, y_test = train_test_split(california.data, california.target, test_size=0.3)\n",
        "\n",
        "y_train_discretized = np.digitize(y_train, np.linspace(y_train.min(), y_train.max(), 5))\n",
        "y_test_discretized = np.digitize(y_test, np.linspace(y_test.min(), y_test.max(), 5))\n",
        "\n",
        "knn_1 = KNeighborsRegressor(n_neighbors=1)\n",
        "knn_3 = KNeighborsRegressor(n_neighbors=3)\n",
        "\n",
        "knn_1.fit(X_train, y_train_discretized)\n",
        "knn_3.fit(X_train, y_train_discretized)\n",
        "\n",
        "y_pred_1 = knn_1.predict(X_test)\n",
        "y_pred_3 = knn_3.predict(X_test)\n",
        "\n",
        "y_pred_1_discretized = np.digitize(y_pred_1, np.linspace(y_test.min(), y_test.max(), 5))\n",
        "y_pred_3_discretized = np.digitize(y_pred_3, np.linspace(y_test.min(), y_test.max(), 5))\n",
        "\n",
        "print(\"Accuracy of 1-NN:\", accuracy_score(y_test_discretized, y_pred_1_discretized)*100, '%')\n",
        "print(\"Accuracy of 3-NN:\", accuracy_score(y_test_discretized, y_pred_3_discretized)*100, '%')\n"
      ],
      "metadata": {
        "colab": {
          "base_uri": "https://localhost:8080/"
        },
        "id": "XuDm04gaj3Jz",
        "outputId": "280a0efc-d31b-4acd-bb78-e60306077fba"
      },
      "execution_count": 35,
      "outputs": [
        {
          "output_type": "stream",
          "name": "stdout",
          "text": [
            "Accuracy of 1-NN: 40.406976744186046 %\n",
            "Accuracy of 3-NN: 42.700258397932814 %\n"
          ]
        }
      ]
    },
    {
      "cell_type": "markdown",
      "source": [
        "Accuracy increases until ceratin data split ratio"
      ],
      "metadata": {
        "id": "emaT1YSDkUEN"
      }
    }
  ]
}